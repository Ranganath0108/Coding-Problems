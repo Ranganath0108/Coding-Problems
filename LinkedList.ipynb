{
 "cells": [
  {
   "cell_type": "markdown",
   "metadata": {},
   "source": [
    "# Linked List\n",
    "\n",
    "\n",
    "\n",
    "<img src=\"https://www.alphacodingskills.com/imgfiles/linked-list.PNG\"/>"
   ]
  },
  {
   "cell_type": "code",
   "execution_count": 25,
   "metadata": {},
   "outputs": [
    {
     "name": "stdout",
     "output_type": "stream",
     "text": [
      "4->3->2->1->0\n",
      "4->2->1->0\n",
      "4\n"
     ]
    }
   ],
   "source": [
    "class Node:\n",
    "    def __init__(self, data=None, next=None):\n",
    "        self.data = data\n",
    "        self.next = next\n",
    "\n",
    "\n",
    "class LinkedList:\n",
    "    def __init__(self):\n",
    "        self.head = None\n",
    "\n",
    "    def insert_at_beginning(self, data):\n",
    "        node = Node(data, self.head)\n",
    "        self.head = node\n",
    "\n",
    "    def printL(self):\n",
    "        if self.head is None:\n",
    "            print(\"Linked is Empty\")\n",
    "        llstr = \"\"\n",
    "        itr = self.head\n",
    "        while itr:\n",
    "            llstr += f\"{itr.data}->\"if itr.next else f\"{itr.data}\"\n",
    "            itr = itr.next\n",
    "        print(llstr)\n",
    "\n",
    "    def insert_at_end(self, data):\n",
    "        if self.head is None:\n",
    "            self.head = Node(data, None)\n",
    "            return\n",
    "        itr = self.head\n",
    "        while itr.next:\n",
    "            itr = itr.next\n",
    "        itr.next = Node(data, None)\n",
    "\n",
    "    def remove_at(self, index):\n",
    "        if(index == 0):\n",
    "            self.head = self.head.next\n",
    "            return\n",
    "\n",
    "        itr = self.head\n",
    "        count = 0\n",
    "        while itr:\n",
    "            if(count == index-1):\n",
    "                itr.next = itr.next.next\n",
    "                break\n",
    "            itr = itr.next\n",
    "            count += 1\n",
    "\n",
    "    def get_length(self):\n",
    "        count = 0\n",
    "        itr = self.head\n",
    "        while itr:\n",
    "            count += 1\n",
    "            itr = itr.next\n",
    "        print(count)\n",
    "\n",
    "\n",
    "l = LinkedList()\n",
    "l.insert_at_beginning(1)\n",
    "l.insert_at_beginning(2)\n",
    "l.insert_at_beginning(3)\n",
    "l.insert_at_beginning(4)\n",
    "l.insert_at_end(0)\n",
    "l.printL()\n",
    "l.remove_at(1)\n",
    "l.printL()\n",
    "l.get_length()\n"
   ]
  },
  {
   "cell_type": "code",
   "execution_count": null,
   "metadata": {},
   "outputs": [],
   "source": []
  }
 ],
 "metadata": {
  "interpreter": {
   "hash": "247ab06e135bb35fa78c5eff31b2a9a0050dcb5fb773c2631d2a29ac689eeccb"
  },
  "kernelspec": {
   "display_name": "Python 3.9.5 64-bit",
   "language": "python",
   "name": "python3"
  },
  "language_info": {
   "codemirror_mode": {
    "name": "ipython",
    "version": 3
   },
   "file_extension": ".py",
   "mimetype": "text/x-python",
   "name": "python",
   "nbconvert_exporter": "python",
   "pygments_lexer": "ipython3",
   "version": "3.9.5"
  },
  "orig_nbformat": 4
 },
 "nbformat": 4,
 "nbformat_minor": 2
}
