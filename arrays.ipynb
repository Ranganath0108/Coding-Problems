{
 "cells": [
  {
   "cell_type": "markdown",
   "metadata": {},
   "source": [
    "1. Given the array ,reverse the array. \n",
    "\n",
    "\n",
    "Input  : arr[] = {1, 2, 3}\n",
    "Output : arr[] = {3, 2, 1}\n",
    "\n",
    "\n",
    "\n",
    "Input :  arr[] = {4, 5, 1, 2}\n",
    "Output : arr[] = {2, 1, 5, 4}\n"
   ]
  },
  {
   "cell_type": "code",
   "execution_count": 61,
   "metadata": {},
   "outputs": [
    {
     "name": "stdout",
     "output_type": "stream",
     "text": [
      "[3, 2, 1]\n",
      "[2, 1, 5, 4]\n"
     ]
    }
   ],
   "source": [
    "def revarray(arr):\n",
    "    start,end=0,len(arr)-1\n",
    "    empty=[]\n",
    "    while start < end:\n",
    "        arr[start],arr[end]=arr[end],arr[start]\n",
    "        start+=1\n",
    "        end-=1\n",
    "    return arr\n",
    "\n",
    "\n",
    "print(revarray([1,2,3]))\n",
    "print(revarray([4,5,1,2]))"
   ]
  },
  {
   "cell_type": "markdown",
   "metadata": {},
   "source": [
    "2. Find the max and min element of a list\n"
   ]
  },
  {
   "cell_type": "code",
   "execution_count": 67,
   "metadata": {},
   "outputs": [
    {
     "name": "stdout",
     "output_type": "stream",
     "text": [
      "(3, 1)\n",
      "(32, 2)\n"
     ]
    }
   ],
   "source": [
    "def findMaxMin(arr):\n",
    "    min,max=arr[0],arr[0]\n",
    "    for i in arr[1:]:\n",
    "        if(min>i):\n",
    "            min=i\n",
    "        if(max<i):\n",
    "            max=i\n",
    "    return max,min\n",
    "\n",
    "\n",
    "print(findMaxMin([1,2,2,3]))\n",
    "print(findMaxMin([6,5,32,2]))"
   ]
  },
  {
   "cell_type": "markdown",
   "metadata": {},
   "source": [
    "3.Find the kth max element in the array"
   ]
  },
  {
   "cell_type": "code",
   "execution_count": 5,
   "metadata": {},
   "outputs": [],
   "source": [
    "def kthMax(k,arr):\n",
    "    arr1=sorted(arr,reverse=True)\n",
    "    arr2=sorted(arr)\n",
    "    return f\"{k}th max is {arr1[k-1]}\\n {k} th min element {arr2[k-1]}\"\n",
    "\n",
    "\n",
    "print(kthMax(2,[1,0,4,55,8]))\n",
    "\n",
    "    "
   ]
  },
  {
   "cell_type": "markdown",
   "metadata": {},
   "source": [
    "4. Given an array which consists of only 0,1,2 sort them without using sorting algo\n"
   ]
  },
  {
   "cell_type": "code",
   "execution_count": 11,
   "metadata": {},
   "outputs": [
    {
     "name": "stdout",
     "output_type": "stream",
     "text": [
      "[0, 0, 1, 2, 2]\n",
      "[0, 0, 1]\n"
     ]
    }
   ],
   "source": [
    "def sortWithAlgo(arr):\n",
    "    arr0=[0 for i in arr if (i==0)]\n",
    "    arr1=[1 for i in arr if (i==1)]\n",
    "    arr2=[2 for i in arr if (i==2)]\n",
    "\n",
    "    return [*arr0,*arr1,*arr2]\n",
    "\n",
    "\n",
    "print(sortWithAlgo([0,2,1,2,0]))\n",
    "print(sortWithAlgo([0,1,0]))\n",
    "\n",
    "            "
   ]
  },
  {
   "cell_type": "markdown",
   "metadata": {},
   "source": [
    "5. Move all the negative numbers to beginning and positive to end with extra spaces"
   ]
  },
  {
   "cell_type": "code",
   "execution_count": 1,
   "metadata": {},
   "outputs": [
    {
     "name": "stdout",
     "output_type": "stream",
     "text": [
      "[11, 6, 5, -5, -12, -7, -13, -3, -6]\n"
     ]
    }
   ],
   "source": [
    "def moveNum(arr):\n",
    "    n=len(arr)\n",
    "    j=0\n",
    "    for i in range(0,n):\n",
    "        if (arr[i]<0):\n",
    "            temp=arr[i]\n",
    "            arr[i]=arr[j]\n",
    "            arr[j]=temp\n",
    "            j+=1\n",
    "    return arr\n",
    "\n",
    "print(moveNum([-12, 11, -13, -5, 6, -7, 5, -3, -6]))\n",
    "\n"
   ]
  },
  {
   "cell_type": "markdown",
   "metadata": {},
   "source": [
    "4. Find the union and intersection of two sorted array"
   ]
  },
  {
   "cell_type": "code",
   "execution_count": 43,
   "metadata": {},
   "outputs": [
    {
     "data": {
      "text/plain": [
       "'union=[1, 2, 3, 4, 6],Intersection=[1, 4]'"
      ]
     },
     "execution_count": 43,
     "metadata": {},
     "output_type": "execute_result"
    }
   ],
   "source": [
    "def UnionInter(arr1,arr2):\n",
    "    set=dict()\n",
    "    union=[]\n",
    "    Intersection=[]\n",
    "\n",
    "\n",
    "    for i in arr1:\n",
    "        if(i not in set):\n",
    "            set[i]=1\n",
    "        else:\n",
    "            set[i]+=1\n",
    "    for j in arr2:\n",
    "        if(j not in set):\n",
    "            set[j]=1\n",
    "        else:\n",
    "            set[j]+=1\n",
    "    for k,v in set.items():\n",
    "        if(v>1):\n",
    "            Intersection.append(k)\n",
    "        union.append(k)\n",
    "\n",
    "\n",
    "    return f\"{union=},{Intersection=}\"\n",
    "\n",
    "    \n",
    "\n",
    "\n",
    "\n",
    "UnionInter([1,2,3,4],[6,1,4])"
   ]
  },
  {
   "cell_type": "markdown",
   "metadata": {},
   "source": [
    "7. Write a program to cyclically rotate array one by one"
   ]
  },
  {
   "cell_type": "code",
   "execution_count": 2,
   "metadata": {},
   "outputs": [
    {
     "name": "stdout",
     "output_type": "stream",
     "text": [
      "[9, 2, 7, 8]\n"
     ]
    },
    {
     "data": {
      "text/plain": [
       "[4, 1, 2, 3]"
      ]
     },
     "execution_count": 2,
     "metadata": {},
     "output_type": "execute_result"
    }
   ],
   "source": [
    "def rotate(arr):\n",
    "    n=len(arr)\n",
    "    for i in range(n-1):\n",
    "        t=arr[0]\n",
    "        for j in range(1,n):\n",
    "            arr[j-1]=arr[j]\n",
    "        arr[n-1]=t\n",
    "    return arr\n",
    "\n",
    "def rotate2(arr):\n",
    "    first=arr[len(arr)-1]\n",
    "    for i in range(len(arr)-1,0,-1):\n",
    "        arr[i]=arr[i-1]\n",
    "    arr[0]=first\n",
    "    return arr\n",
    "\n",
    "print(rotate([2,7,8,9]))\n",
    "rotate2([1,2,3,4])"
   ]
  },
  {
   "cell_type": "markdown",
   "metadata": {},
   "source": [
    "8. Find the largest sum of contagious subarray"
   ]
  },
  {
   "cell_type": "code",
   "execution_count": 10,
   "metadata": {},
   "outputs": [
    {
     "name": "stdout",
     "output_type": "stream",
     "text": [
      "9\n"
     ]
    },
    {
     "data": {
      "text/plain": [
       "9"
      ]
     },
     "execution_count": 10,
     "metadata": {},
     "output_type": "execute_result"
    }
   ],
   "source": [
    "#  Bruteforce\n",
    "def sumOfArray(arr):\n",
    "    empty=[]\n",
    "    for i in range(len(arr)):\n",
    "        mx=arr[i]\n",
    "        c=0\n",
    "        for j in range (i,len(arr)):\n",
    "            c+=arr[i]\n",
    "            if(c>mx):\n",
    "                mx=c\n",
    "        empty.append(mx)\n",
    "    return max(empty)\n",
    "\n",
    "\n",
    "# kaden algo\n",
    "def sumOfArray1(arr):\n",
    "    mx=arr[0]\n",
    "    c=0\n",
    "    for i in  arr:\n",
    "        c+=i\n",
    "        if(c>mx):\n",
    "            mx=c\n",
    "        if(c<0):\n",
    "            c=0\n",
    "    return mx\n",
    "\n",
    "print(sumOfArray1([1, 2, 3, -2, 5]))\n",
    "sumOfArray([1, 2, 3, -2, 5])"
   ]
  },
  {
   "cell_type": "markdown",
   "metadata": {},
   "source": [
    "\n",
    "9. Minimize the maximum difference heights\n",
    "\n",
    "\n",
    "\n",
    "Given an array arr[] denoting heights of N towers and a positive integer K, you have to modify the height of each tower either by increasing or decreasing them by K only once. After modifying, height should be a non-negative integer. \n",
    "Find out the minimum possible difference of the height of shortest and longest towers after you have modified each tower.\n",
    "\n",
    "\n",
    "Input:\n",
    "K = 2, N = 4\n",
    "Arr[] = {1, 5, 8, 10}\n",
    "Output:\n",
    "5\n",
    "Explanation:\n",
    "The array can be modified as \n",
    "{3, 3, 6, 8}. The difference between \n",
    "the largest and the smallest is 8-3 = 5.\n",
    "\n",
    "\n",
    "\n",
    "Input:\n",
    "K = 3, N = 5\n",
    "Arr[] = {3, 9, 12, 16, 20}\n",
    "Output:\n",
    "11\n",
    "Explanation:\n",
    "The array can be modified as\n",
    "{6, 12, 9, 13, 17}. The difference between \n",
    "the largest and the smallest is 17-6 = 11.\n",
    "\n",
    "\n",
    "\n",
    "\n",
    "\n",
    "\n"
   ]
  },
  {
   "cell_type": "code",
   "execution_count": 29,
   "metadata": {},
   "outputs": [
    {
     "name": "stdout",
     "output_type": "stream",
     "text": [
      "9\n",
      "11\n",
      "5\n"
     ]
    }
   ],
   "source": [
    "def getMinDiff(arr,k):\n",
    "    n=len(arr)\n",
    "    arr.sort()\n",
    "    res=arr[n-1]-arr[0]\n",
    "    smallest=arr[0]+k\n",
    "    largest=arr[n-1]-k\n",
    "    for i in range(n-1):\n",
    "        mn=min(smallest,arr[i+1]-k)\n",
    "        mx=max(largest,arr[i]+k)\n",
    "        if(mn<0):\n",
    "            continue\n",
    "        res=min(res,mx-mn)\n",
    "    return res\n",
    "\n",
    "\n",
    "print(getMinDiff([7,12,3],8))\n",
    "print(getMinDiff([3, 9, 12, 16, 20],3))\n",
    "print(getMinDiff([1, 5, 8, 10],2))"
   ]
  },
  {
   "cell_type": "markdown",
   "metadata": {},
   "source": [
    "10. Minimum no. of jumps to reach an end of an array\n",
    "\n",
    "\n",
    "\n",
    "Given an array of N integers arr[] where each element represents the max number of steps that can be made forward from that element. Find the minimum number of jumps to reach the end of the array (starting from the first element). If an element is 0, then you cannot move through that element.\n",
    "Note: Return -1 if you can't reach the end of the array."
   ]
  },
  {
   "cell_type": "code",
   "execution_count": 30,
   "metadata": {},
   "outputs": [
    {
     "name": "stdout",
     "output_type": "stream",
     "text": [
      "2\n"
     ]
    }
   ],
   "source": [
    "def minJump(arr,n):\n",
    " \n",
    "    # unoptimized and non usable code for all testcases\n",
    "    i=0\n",
    "    count=0\n",
    "    while(i<n):\n",
    "        jump=arr[i]\n",
    "        i+=jump\n",
    "        if(i>=n-1):\n",
    "            count+=1\n",
    "            return count\n",
    "        else:\n",
    "            count+=1\n",
    "    return -1\n",
    "\n",
    "\n",
    "\n",
    "def minJump1(arr,n):\n",
    "    mx=0\n",
    "    halt=0\n",
    "    jump=0\n",
    "    if(n==1):\n",
    "        return 0\n",
    "    if(arr[0]==0):\n",
    "        return -1\n",
    "    for i in range(0,n-1):\n",
    "        mx=max(mx,i+arr[i])\n",
    "        if(mx>=n-1):\n",
    "            jump+=1\n",
    "            return jump\n",
    "        if(i==halt):\n",
    "            halt=mx\n",
    "            jump+=1\n",
    "\n",
    "\n",
    "    if(halt>=n-1):\n",
    "        return jump\n",
    "    else:\n",
    "        return -1\n",
    "  \n",
    " \n",
    "\n",
    "\n",
    "\n",
    "print(minJump1([1, 4, 3, 2, 6, 7],6))\n"
   ]
  },
  {
   "cell_type": "markdown",
   "metadata": {},
   "source": [
    "11. find the duplicate in an array of n+1 integers \n"
   ]
  },
  {
   "cell_type": "code",
   "execution_count": 31,
   "metadata": {},
   "outputs": [
    {
     "name": "stdout",
     "output_type": "stream",
     "text": [
      "2 2\n",
      "3 3\n"
     ]
    }
   ],
   "source": [
    "# using hasmap or dict\n",
    "\n",
    "def findDuplicate1(arr):\n",
    "    count={}\n",
    "    for i in arr:\n",
    "        if i  in count:\n",
    "            return i\n",
    "        else:\n",
    "            count[i]=1\n",
    "\n",
    "\n",
    "# sorting technique\n",
    "def findDuplicate2(arr):\n",
    "    arr.sort()\n",
    "    for i in range(1,len(arr)):\n",
    "        if(arr[i]==arr[i-1]):\n",
    "            return arr[i]\n",
    "\n",
    "\n",
    "\n",
    "    \n",
    "    \n",
    "print(findDuplicate1([1,3,4,2,2]),findDuplicate2([1,3,4,2,2]))\n",
    "print(findDuplicate1([3,1,3,4,2]),findDuplicate2([3,1,3,4,2]))\n"
   ]
  },
  {
   "cell_type": "markdown",
   "metadata": {},
   "source": [
    "### 12. Merged Intervals\n",
    "\n",
    "\n",
    "Given an array of intervals where intervals[i] = [starti, endi], merge all overlapping intervals, and return an array of the non-overlapping intervals that cover all the intervals in the input."
   ]
  },
  {
   "cell_type": "code",
   "execution_count": 32,
   "metadata": {},
   "outputs": [
    {
     "name": "stdout",
     "output_type": "stream",
     "text": [
      "[[1, 6], [8, 10], [15, 18]]\n"
     ]
    }
   ],
   "source": [
    "def mergedIntervals(intervals):\n",
    "    mergedinterval=[]\n",
    "    intervals=sorted(intervals)\n",
    "    if(len(intervals)==0 and intervals==None):\n",
    "        return None\n",
    "    tempinterval=intervals[0]\n",
    "    for i in range(1,len(intervals)):\n",
    "        if(intervals[i][0]<=tempinterval[1]):\n",
    "            tempinterval[1]=max(intervals[i][1],tempinterval[1])\n",
    "        else:\n",
    "            mergedinterval.append(tempinterval)\n",
    "            tempinterval=intervals[i]\n",
    "    mergedinterval.append(tempinterval)\n",
    "    return mergedinterval\n",
    "\n",
    "print(mergedIntervals([[1,3],[2,6],[8,10],[15,18]]))\n",
    "    \n",
    "    \n"
   ]
  },
  {
   "cell_type": "markdown",
   "metadata": {},
   "source": [
    "##### 13. Next Permutation\n",
    "\n",
    "\n",
    "A permutation of an array of integers is an arrangement of its members into a sequence or linear order.\n",
    "\n",
    "For example, for arr = [1,2,3], the following are considered permutations of arr: [1,2,3], [1,3,2], [3,1,2], [2,3,1].\n",
    "The next permutation of an array of integers is the next lexicographically greater permutation of its integer. More formally, if all the permutations of the array are sorted in one container according to their lexicographical order, then the next permutation of that array is the permutation that follows it in the sorted container. If such arrangement is not possible, the array must be rearranged as the lowest possible order (i.e., sorted in ascending order).\n",
    "\n",
    "For example, the next permutation of arr = [1,2,3] is [1,3,2].\n",
    "Similarly, the next permutation of arr = [2,3,1] is [3,1,2].\n",
    "While the next permutation of arr = [3,2,1] is [1,2,3] because [3,2,1] does not have a lexicographical larger rearrangement.\n",
    "Given an array of integers nums, find the next permutation of nums.\n",
    "\n",
    "The replacement must be in place and use only constant extra memory.\n",
    "\n",
    "Input: nums = [1,2,3]\n",
    "Output: [1,3,2]\n",
    "\n",
    "Input: nums = [3,2,1]\n",
    "Output: [1,2,3]\n",
    "\n",
    "Input: nums = [1,1,5]\n",
    "Output: [1,5,1]\n",
    "\n",
    "\n",
    "<img src=\"https://leetcode.com/media/original_images/31_Next_Permutation.gif\"/>"
   ]
  },
  {
   "cell_type": "code",
   "execution_count": 33,
   "metadata": {},
   "outputs": [
    {
     "data": {
      "text/plain": [
       "[1, 5, 8, 1, 3, 4, 6, 7, 5]"
      ]
     },
     "execution_count": 33,
     "metadata": {},
     "output_type": "execute_result"
    }
   ],
   "source": [
    "from itertools import permutations\n",
    "\n",
    "\n",
    "def nextPermutation1(arr):\n",
    "    mx=max(arr)\n",
    "    mn=min(arr)\n",
    "    a=list(permutations(range(mn,mx+1)))\n",
    "    for i in range(len(a)):\n",
    "        if(i==len(a)-1):\n",
    "            return a[0]\n",
    "        if(tuple(arr) == a[i] ):\n",
    "            return a[i+1]\n",
    "\n",
    "\n",
    "def nextPermutation2(arr):\n",
    "    n=len(arr)\n",
    "    if(arr==None or len(arr)==1):\n",
    "        return \n",
    "    \n",
    "    i=n-2\n",
    "    while(i>=0 and arr[i]>=arr[i+1]):\n",
    "        i=i-1\n",
    "    if(i>=0):\n",
    "        j=n-1\n",
    "        while(arr[j]<=arr[i]):\n",
    "            j-=1\n",
    "        arr[j],arr[i]=arr[i],arr[j]\n",
    "        \n",
    "    \n",
    "    sub1=arr[0:i]\n",
    "    \n",
    "    sub2=arr[i:]\n",
    "    rev=sub2[::-1]\n",
    "   \n",
    "    res=[*sub1,*rev]\n",
    "    return res\n",
    "\n",
    "\n",
    "        \n",
    "nextPermutation2([1,5,8,4,7,6,5,3,1])\n",
    "# print(nextPermutation1([1,2,3]))\n",
    "# print(nextPermutation1([1,1,5]))\n",
    "\n",
    "\n",
    "\n",
    "\n"
   ]
  },
  {
   "cell_type": "markdown",
   "metadata": {},
   "source": [
    "find the Factorial Of a Larger number\n"
   ]
  },
  {
   "cell_type": "code",
   "execution_count": 34,
   "metadata": {},
   "outputs": [
    {
     "name": "stdout",
     "output_type": "stream",
     "text": [
      "5040\n"
     ]
    }
   ],
   "source": [
    "def LargestFactorial(arr):\n",
    "    mx=arr[0]\n",
    "    for i in range(len(arr)):\n",
    "        if(arr[i]>mx):\n",
    "            mx=arr[i]\n",
    "    res=fact(mx)\n",
    "    return res\n",
    "\n",
    "def fact(n):\n",
    "    if(n==0 or n==1):\n",
    "        return 1\n",
    "    return n*fact(n-1)\n",
    "\n",
    "\n",
    "print(LargestFactorial([4,2,6,7]))"
   ]
  },
  {
   "cell_type": "markdown",
   "metadata": {},
   "source": [
    "maximum product subarray"
   ]
  },
  {
   "cell_type": "code",
   "execution_count": 35,
   "metadata": {},
   "outputs": [
    {
     "name": "stdout",
     "output_type": "stream",
     "text": [
      "180\n",
      "120\n"
     ]
    }
   ],
   "source": [
    "def maxProductSubArray(arr):\n",
    "    productL=[]\n",
    "    for i in range(len(arr)):\n",
    "        for j in range(i,len(arr)):\n",
    "            productL.append(arr[i:j+1])\n",
    "    products=[productOfArray(i) for i in productL]\n",
    "    if(len(products)!=0):\n",
    "        return max(products)\n",
    "\n",
    "def productOfArray(a):\n",
    "    if(len(a)==0):\n",
    "        return 1\n",
    "    product=1\n",
    "    for i in a:\n",
    "        product*=i\n",
    "    return product\n",
    "\n",
    "print(maxProductSubArray([6, -3, -10, 0, 2]))\n",
    "print(maxProductSubArray([2, 3, 4, 5, -1, 0]))\n"
   ]
  },
  {
   "cell_type": "markdown",
   "metadata": {},
   "source": [
    "Longest consecutive subsequence"
   ]
  },
  {
   "cell_type": "code",
   "execution_count": 36,
   "metadata": {},
   "outputs": [
    {
     "name": "stdout",
     "output_type": "stream",
     "text": [
      "6\n",
      "4\n"
     ]
    }
   ],
   "source": [
    "def longestConsecutiveSubsequence(arr):\n",
    "    count=1\n",
    "    arr.sort()\n",
    "    mx=0\n",
    "    for i in range(len(arr)-1):\n",
    "        if(arr[i+1]-arr[i]==1):\n",
    "            count+=1\n",
    "        elif(arr[i+1]-arr[i]==0):\n",
    "            continue\n",
    "        else:\n",
    "            if(count>=mx):\n",
    "                mx=count\n",
    "            count=0\n",
    "    return mx\n",
    "\n",
    "print(longestConsecutiveSubsequence([2,6,1,9,4,5,3]))\n",
    "print(longestConsecutiveSubsequence([1,9,3,10,4,20,2]))\n"
   ]
  },
  {
   "cell_type": "markdown",
   "metadata": {},
   "source": [
    "Given an array of size n and a number k, find all elements that appear more than n/k times\n",
    "\n",
    "\n",
    "Given an array of size n, find all elements in array that appear more than n/k times. For example, if the input arrays is {3, 1, 2, 2, 1, 2, 3, 3} and k is 4, then the output should be [2, 3]. Note that size of array is 8 (or n = 8), so we need to find all e"
   ]
  },
  {
   "cell_type": "code",
   "execution_count": 37,
   "metadata": {},
   "outputs": [
    {
     "name": "stdout",
     "output_type": "stream",
     "text": [
      "[{3: 3}, {2: 3}]\n"
     ]
    }
   ],
   "source": [
    "def moreThanK(arr,k):\n",
    "    n=len(arr)\n",
    "    x=n//k\n",
    "    freq=dict()\n",
    "    for i in arr:\n",
    "        if i not in freq:\n",
    "            freq[i]=1\n",
    "        else:\n",
    "            freq[i]+=1\n",
    "    elemnts=[{k:v} for k,v in freq.items() if(v>x)]\n",
    "    return elemnts\n",
    "\n",
    "\n",
    "print(moreThanK([3, 1, 2, 2, 1, 2, 3, 3],4))"
   ]
  },
  {
   "cell_type": "markdown",
   "metadata": {},
   "source": [
    "Find if there is any subarray with sum equal to 0"
   ]
  },
  {
   "cell_type": "code",
   "execution_count": 38,
   "metadata": {},
   "outputs": [
    {
     "name": "stdout",
     "output_type": "stream",
     "text": [
      "NO\n"
     ]
    }
   ],
   "source": [
    "def Subsequence(a):\n",
    "    sub=[]\n",
    "    for i in range(len(a)+1):\n",
    "        for j in range(i,len(a)):\n",
    "            sub.append(a[i:j+1])\n",
    "    return sub\n",
    "\n",
    "def is_zero(arr):\n",
    "    sub=Subsequence(arr)\n",
    "    for i in sub:\n",
    "        if(sum(i)==0):\n",
    "            return True\n",
    "    return False\n",
    "\n",
    "\n",
    "\n",
    "if(is_zero([4,2,])):\n",
    "    print(\"YES\")\n",
    "else:\n",
    "    print(\"NO\")\n",
    "\n"
   ]
  },
  {
   "cell_type": "markdown",
   "metadata": {},
   "source": [
    "find all pairs on integer array whose sum is equal to given number"
   ]
  },
  {
   "cell_type": "code",
   "execution_count": 39,
   "metadata": {},
   "outputs": [
    {
     "name": "stdout",
     "output_type": "stream",
     "text": [
      "6\n",
      "2\n"
     ]
    }
   ],
   "source": [
    "def CountPairs(arr,k):\n",
    "    count=0\n",
    "    for i in range(len(arr)+1):\n",
    "        for j in range(i,len(arr)):\n",
    "            if(i!=j):\n",
    "                if((arr[i]+arr[j]==k)):\n",
    "                    count+=1\n",
    "\n",
    "    return count\n",
    "\n",
    "\n",
    "print(CountPairs([1, 1, 1, 1],2))\n",
    "print(CountPairs([1, 5, 7, 1],6))\n"
   ]
  },
  {
   "cell_type": "markdown",
   "metadata": {},
   "source": [
    "Best Time Sell And buy Stocks with max profit"
   ]
  },
  {
   "cell_type": "code",
   "execution_count": 58,
   "metadata": {},
   "outputs": [
    {
     "name": "stdout",
     "output_type": "stream",
     "text": [
      "5\n"
     ]
    }
   ],
   "source": [
    "def MaxProfit(arr):\n",
    "    mx=0\n",
    "    for i in range(len(arr)+1):\n",
    "        for j in range(i,len(arr)):\n",
    "            mx=max(mx,arr[j]-arr[i])\n",
    "    return mx\n",
    "print(MaxProfit([7,1,5,3,6,4]))\n"
   ]
  },
  {
   "cell_type": "markdown",
   "metadata": {},
   "source": [
    "n"
   ]
  },
  {
   "cell_type": "code",
   "execution_count": 59,
   "metadata": {},
   "outputs": [
    {
     "name": "stdout",
     "output_type": "stream",
     "text": [
      "[1, 2, 3, 34, 44, 67, 48]\n"
     ]
    }
   ],
   "source": [
    "n=[1,2,3,44,34,44,67,48]\n",
    "\n",
    "freq=dict()\n",
    "for i in n:\n",
    "    if i not in freq:\n",
    "        freq[i]=1\n",
    "    else:\n",
    "        n.remove(i)    \n",
    "\n",
    "print(n)"
   ]
  },
  {
   "cell_type": "markdown",
   "metadata": {},
   "source": [
    "Find the array is Subset of Another array"
   ]
  },
  {
   "cell_type": "code",
   "execution_count": 4,
   "metadata": {},
   "outputs": [
    {
     "name": "stdout",
     "output_type": "stream",
     "text": [
      "False\n"
     ]
    }
   ],
   "source": [
    "def is_subset(arr1,arr2):\n",
    "    if(len(arr1)<len(arr2)):\n",
    "        arr1,arr2=arr2,arr1\n",
    "\n",
    "    for i in arr2:\n",
    "        if i not in arr1:\n",
    "            return False\n",
    "    return True\n",
    "\n",
    "\n",
    "\n",
    "print(is_subset([11, 1, 13, 21, 3, 7],[11, 3, 7,0]))"
   ]
  },
  {
   "cell_type": "markdown",
   "metadata": {},
   "source": [
    "Trapping Rainwater Problem\n"
   ]
  },
  {
   "cell_type": "code",
   "execution_count": 7,
   "metadata": {},
   "outputs": [
    {
     "name": "stdout",
     "output_type": "stream",
     "text": [
      "6\n",
      "3\n"
     ]
    }
   ],
   "source": [
    "def maxWater(arr):\n",
    "    n=len(arr)\n",
    "    res=0\n",
    "    for i in range(1,n-1):\n",
    "        left=arr[i]\n",
    "        for j in range(i):\n",
    "            left=max(left,arr[j])\n",
    "        right=arr[i]\n",
    "        for j in range(i+1,n):\n",
    "            right=max(right,arr[j])\n",
    "        res+=min(left,right)-arr[i]\n",
    "\n",
    "    return res\n",
    "\n",
    "print(maxWater([0, 1, 0, 2, 1, 0, 1, 3, 2, 1, 2, 1]))\n",
    "print(maxWater([3,0,3]))"
   ]
  },
  {
   "cell_type": "markdown",
   "metadata": {},
   "source": [
    "smallest-subarray-with-sum-greater-than-Value"
   ]
  },
  {
   "cell_type": "code",
   "execution_count": 23,
   "metadata": {},
   "outputs": [
    {
     "name": "stdout",
     "output_type": "stream",
     "text": [
      "subbary is [2, 3] and its length is 2\n",
      "subbary is [4, 45, 6] and its length is 3\n",
      "subbary is [10] and its length is 1\n",
      "subbary is [100, 1, 0, 200] and its length is 4\n",
      "Not posiible\n"
     ]
    }
   ],
   "source": [
    "def SmallestSubArrayGreaterThanGivenValue(arr,k):\n",
    "    res=[]\n",
    "    if(sum(arr)<=k):\n",
    "        return \"Not posiible\"\n",
    "\n",
    "    else:\n",
    "        for i in range(len(arr)+1):\n",
    "            for j in range(i,len(arr)):\n",
    "                if(sum(arr[i:j+1])>k):\n",
    "                    res.append(arr[i:j+1])\n",
    "        return f\"subbary is {min(res,key=len)} and its length is {len(min(res,key=len))}\"\n",
    "                \n",
    "\n",
    "print(SmallestSubArrayGreaterThanGivenValue([1,2,3],3))\n",
    "print(SmallestSubArrayGreaterThanGivenValue([1, 4, 45, 6, 0, 19],51))\n",
    "print(SmallestSubArrayGreaterThanGivenValue([1, 10, 5, 2, 7],9))\n",
    "print(SmallestSubArrayGreaterThanGivenValue([1, 11, 100, 1, 0, 200, 3, 2, 1, 250],280))\n",
    "print(SmallestSubArrayGreaterThanGivenValue([1, 2, 4],8))\n",
    "\n"
   ]
  },
  {
   "cell_type": "markdown",
   "metadata": {},
   "source": [
    "Median Of  array:\n"
   ]
  },
  {
   "cell_type": "code",
   "execution_count": 7,
   "metadata": {},
   "outputs": [
    {
     "name": "stdout",
     "output_type": "stream",
     "text": [
      "89\n",
      "61\n"
     ]
    }
   ],
   "source": [
    "def medianOfArray(arr):\n",
    "    arr.sort()\n",
    "    n=len(arr)\n",
    "    if(n%2!=0):\n",
    "        return arr[(n//2)]\n",
    "    return (arr[(n//2)-1]+arr[n//2])//2\n",
    "\n",
    "print(medianOfArray([90,100,78,89,67]))\n",
    "print(medianOfArray([56,67,30,79]))"
   ]
  },
  {
   "cell_type": "markdown",
   "metadata": {},
   "source": [
    "Median of two arrays of different length"
   ]
  },
  {
   "cell_type": "code",
   "execution_count": 9,
   "metadata": {},
   "outputs": [
    {
     "name": "stdout",
     "output_type": "stream",
     "text": [
      "3\n",
      "11\n"
     ]
    }
   ],
   "source": [
    "def medianOfTwoArray(arr1,arr2):\n",
    "    a=[*arr1,*arr2]\n",
    "    return medianOfArray(a)\n",
    "\n",
    "print(medianOfTwoArray([-5, 3, 6, 12, 15],[-12, -10, -6, -3, 4, 10]))\n",
    "print(medianOfTwoArray([2, 3, 5, 8],[10, 12, 14, 16, 18, 20]))"
   ]
  }
 ],
 "metadata": {
  "interpreter": {
   "hash": "247ab06e135bb35fa78c5eff31b2a9a0050dcb5fb773c2631d2a29ac689eeccb"
  },
  "kernelspec": {
   "display_name": "Python 3.9.5 64-bit",
   "language": "python",
   "name": "python3"
  },
  "language_info": {
   "codemirror_mode": {
    "name": "ipython",
    "version": 3
   },
   "file_extension": ".py",
   "mimetype": "text/x-python",
   "name": "python",
   "nbconvert_exporter": "python",
   "pygments_lexer": "ipython3",
   "version": "3.9.5"
  },
  "orig_nbformat": 4
 },
 "nbformat": 4,
 "nbformat_minor": 2
}
