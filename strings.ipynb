{
 "cells": [
  {
   "cell_type": "code",
   "execution_count": 15,
   "metadata": {},
   "outputs": [
    {
     "name": "stdout",
     "output_type": "stream",
     "text": [
      "['255.255.11.135', '255.255.111.35']\n",
      "[]\n"
     ]
    }
   ],
   "source": [
    "def is_valid(ip):\n",
    " \n",
    "    \n",
    "    ip = ip.split(\".\")\n",
    "     \n",
    "    for i in ip:\n",
    "        if (len(i) > 3 or int(i) < 0 or\n",
    "                          int(i) > 255):\n",
    "            return False\n",
    "        if len(i) > 1 and int(i) == 0:\n",
    "            return False\n",
    "        if (len(i) > 1 and int(i) != 0 and\n",
    "            i[0] == '0'):\n",
    "            return False\n",
    "             \n",
    "    return True\n",
    " \n",
    "\n",
    "def convert(s):\n",
    "     \n",
    "    sz = len(s)\n",
    " \n",
    "    \n",
    "    if sz > 12:\n",
    "        return []\n",
    "    snew = s\n",
    "    l = []\n",
    " \n",
    "    # Generating different combinations.\n",
    "    for i in range(1, sz - 2):\n",
    "        for j in range(i + 1, sz - 1):\n",
    "            for k in range(j + 1, sz):\n",
    "                snew = snew[:k] + \".\" + snew[k:]\n",
    "                snew = snew[:j] + \".\" + snew[j:]\n",
    "                snew = snew[:i] + \".\" + snew[i:]\n",
    "                 \n",
    "                # Check for the validity of combination\n",
    "                if is_valid(snew):\n",
    "                    l.append(snew)\n",
    "                     \n",
    "                snew = s\n",
    "                 \n",
    "    return l\n",
    " \n",
    "        \n",
    "A = \"25525511135\"\n",
    "B = \"25505011535\"\n",
    " \n",
    "print(convert(A))\n",
    "print(convert(B))"
   ]
  },
  {
   "cell_type": "markdown",
   "metadata": {},
   "source": [
    "2. Smallest Window Problem\n",
    "\n"
   ]
  },
  {
   "cell_type": "code",
   "execution_count": 34,
   "metadata": {},
   "outputs": [
    {
     "name": "stdout",
     "output_type": "stream",
     "text": [
      "3\n",
      "2\n",
      "4\n",
      "7\n"
     ]
    }
   ],
   "source": [
    "def smallestWindow(s):\n",
    "    count=0\n",
    "    sl=list(s)\n",
    "    sset=set(sl)\n",
    "    length=len(sset)\n",
    "    hsmp={k:-1 for k in sset}\n",
    "    for j,i in enumerate(s):\n",
    "        if(hsmp[i]<0):\n",
    "            if(i in hsmp.keys()):\n",
    "                count=count+1\n",
    "        if(count==length):\n",
    "            return j+1\n",
    "    return None\n",
    "\n",
    "print(smallestWindow(\"AABBBCBBAC\"))\n",
    "print(smallestWindow(\"aaab\"))\n",
    "print(smallestWindow(\"aabcbcdbca\"))\n",
    "print(smallestWindow(\"GEEKSGEEKSFOR\"))\n",
    "\n"
   ]
  },
  {
   "cell_type": "markdown",
   "metadata": {},
   "source": [
    "3. Minimum characters to be added at front to make string palindrome"
   ]
  },
  {
   "cell_type": "code",
   "execution_count": 7,
   "metadata": {},
   "outputs": [
    {
     "name": "stdout",
     "output_type": "stream",
     "text": [
      "2\n",
      "1\n"
     ]
    }
   ],
   "source": [
    "def minimumCharToAdd(s):\n",
    "    count=0\n",
    "    while(len(s)>0):\n",
    "        if(is_palindrome(s)):\n",
    "            flag=1\n",
    "            break\n",
    "        else:\n",
    "            count+=1\n",
    "            s=s[:-1]\n",
    "    return count\n",
    "\n",
    "def is_palindrome(s):\n",
    "    if(len(s)==1 or len(s)==0):\n",
    "        return True\n",
    "    if(s[0]==s[len(s)-1]):\n",
    "        return is_palindrome(s[1:len(s)-1])\n",
    "    return False\n",
    "   \n",
    "\n",
    "print(minimumCharToAdd(\"abc\"))\n",
    "print(minimumCharToAdd(\"AABBCBBAAA\"))"
   ]
  },
  {
   "cell_type": "markdown",
   "metadata": {},
   "source": [
    "4. Given a seq of words, print all anagrams together"
   ]
  },
  {
   "cell_type": "code",
   "execution_count": 19,
   "metadata": {},
   "outputs": [
    {
     "name": "stdout",
     "output_type": "stream",
     "text": [
      "[['no', 'on'], ['is']]\n",
      "[['act', 'cat', 'tac'], ['god', 'dog']]\n"
     ]
    }
   ],
   "source": [
    "def allAnagrams(lst):\n",
    "    grp=dict()\n",
    "    for v in (lst):\n",
    "        if(''.join(sorted(v) ) not in grp):\n",
    "            grp[''.join(sorted(v))]=[v]\n",
    "        else:\n",
    "            grp[''.join(sorted(v))].append(v)\n",
    "\n",
    "    res=[v for v in grp.values()]\n",
    "    return res\n",
    "print(allAnagrams(['no','on','is']))\n",
    "print(allAnagrams(['act','god','cat','dog','tac']))\n"
   ]
  },
  {
   "cell_type": "markdown",
   "metadata": {},
   "source": [
    "5. Remove Duplicates"
   ]
  },
  {
   "cell_type": "code",
   "execution_count": 3,
   "metadata": {},
   "outputs": [
    {
     "name": "stdout",
     "output_type": "stream",
     "text": [
      "aba\n",
      "ab\n"
     ]
    }
   ],
   "source": [
    "def removeDuplicates(s):\n",
    "    c=s[0]\n",
    "    ans=c\n",
    "    for i in s[1:]:\n",
    "        if(c!=i):\n",
    "            ans+=i\n",
    "        c=i\n",
    "    return ans\n",
    "\n",
    "\n",
    "print(removeDuplicates(\"aabaa\"))\n",
    "print(removeDuplicates(\"aabb\"))"
   ]
  },
  {
   "cell_type": "markdown",
   "metadata": {},
   "source": [
    "\n",
    "Write a function “runCustomerSimulation” that takes following two inputs \n",
    "a) An integer ‘n’: total number of computers in a cafe and a string: \n",
    "b) A seq of uppercase letters ‘seq’: Letters in the sequence occur in pairs. The first occurrence indicates the arrival of a customer; the second indicates the departure of that same customer. \n",
    "A customer will be serviced if there is an unoccupied computer. No letter will occur more than two times. \n",
    "Customers who leave without using a computer always depart before customers who are currently using the computers. There are at most 20 computers per cafe.\n",
    "For each set of input the function should output a number telling how many customers, if any walked away without using a computer. Return 0 if all the customers were able to use a computer.\n",
    "runCustomerSimulation (2, “ABBAJJKZKZ”) should return 0\n",
    "runCustomerSimulation (3, “GACCBDDBAGEE”) should return 1 as ‘D’ was not able to get any computer\n",
    "runCustomerSimulation (3, “GACCBGDDBAEE”) should return 0\n",
    "runCustomerSimulation (1, “ABCBCA”) should return 2 as ‘B’ and ‘C’ were not able to get any computer.\n",
    "runCustomerSimulation(1, “ABCBCADEED”) should return 3 as ‘B’, ‘C’ and ‘E’ were not able to get any computer."
   ]
  },
  {
   "cell_type": "code",
   "execution_count": 11,
   "metadata": {},
   "outputs": [
    {
     "name": "stdout",
     "output_type": "stream",
     "text": [
      "0\n",
      "1\n",
      "2\n"
     ]
    }
   ],
   "source": [
    "def process(capacity,sequence):\n",
    "    unattended=0\n",
    "    visited=set()\n",
    "    allocated=set()\n",
    "    for i in sequence:\n",
    "        if i not in visited:\n",
    "            visited.add(i)\n",
    "            if(len(allocated)<capacity):\n",
    "                allocated.add(i)\n",
    "            else:\n",
    "                unattended+=1\n",
    "        else:\n",
    "            visited.remove(i)\n",
    "            if i in allocated:\n",
    "                allocated.remove(i)\n",
    "    return unattended\n",
    "\n",
    "\n",
    "\n",
    "print(process(2,\"ABBAJJKZKZ\"))\n",
    "print(process(3,\"GACCBDDBAGEE\"))\n",
    "print(process(1,\"ABCBCA\"))\n"
   ]
  },
  {
   "cell_type": "code",
   "execution_count": null,
   "metadata": {},
   "outputs": [],
   "source": []
  },
  {
   "cell_type": "code",
   "execution_count": 46,
   "metadata": {},
   "outputs": [
    {
     "name": "stdout",
     "output_type": "stream",
     "text": [
      "Minimum number of operations required is 1\n"
     ]
    }
   ],
   "source": [
    "def minOps(A, B):\n",
    "\tm = len(A)\n",
    "\tn = len(B)\n",
    "\n",
    "\t\n",
    "\tif n != m:\n",
    "\t\treturn -1\n",
    "\n",
    "\tcount = [0] * 256\n",
    "\n",
    "\tfor i in range(n):\t \n",
    "\t\tcount[ord(B[i])] += 1\n",
    "\tfor i in range(n):\t \n",
    "\t\tcount[ord(A[i])] -= 1\n",
    "\tfor i in range(256):\n",
    "\t\tif count[i]:\n",
    "\t\t\treturn -1\n",
    "\n",
    "\tres = 0\n",
    "\ti = n-1\n",
    "\tj = n-1\n",
    "\twhile i >= 0:\n",
    "\t\n",
    "\t\t\n",
    "\t\twhile i>= 0 and A[i] != B[j]:\n",
    "\t\t\ti -= 1\n",
    "\t\t\tres += 1\n",
    "\n",
    "\t\t\n",
    "\t\tif i >= 0:\n",
    "\t\t\ti -= 1\n",
    "\t\t\tj -= 1\n",
    "\n",
    "\treturn res\n",
    "\n",
    "\n",
    "A = \"ABD\"\n",
    "B = \"BAD\"\n",
    "print (\"Minimum number of operations required is \" + str(minOps(A,B)))\n",
    "\n"
   ]
  },
  {
   "cell_type": "markdown",
   "metadata": {},
   "source": [
    "recursively print allt he sentences can be print from the words"
   ]
  },
  {
   "cell_type": "code",
   "execution_count": null,
   "metadata": {},
   "outputs": [],
   "source": []
  },
  {
   "cell_type": "markdown",
   "metadata": {},
   "source": [
    "Check whether the string is palindome or not\n",
    "\n"
   ]
  },
  {
   "cell_type": "code",
   "execution_count": 26,
   "metadata": {},
   "outputs": [
    {
     "name": "stdout",
     "output_type": "stream",
     "text": [
      "True\n",
      "False\n"
     ]
    }
   ],
   "source": [
    "def is_palindrome(s):\n",
    "    if (len(s)==0 or len(s)==1):\n",
    "        return True\n",
    "    if(s[0]==s[len(s)-1]):\n",
    "        return is_palindrome(s[1:len(s)-1])\n",
    "    return False\n",
    "\n",
    "print(is_palindrome(\"abba\"))\n",
    "print(is_palindrome(\"abc\"))\n",
    "\n"
   ]
  },
  {
   "cell_type": "markdown",
   "metadata": {},
   "source": [
    "Print all the duplicates in the input string"
   ]
  },
  {
   "cell_type": "code",
   "execution_count": 61,
   "metadata": {},
   "outputs": [
    {
     "name": "stdout",
     "output_type": "stream",
     "text": [
      "['b']\n",
      "[]\n"
     ]
    }
   ],
   "source": [
    "def allDuplicates(s):\n",
    "    count=dict()\n",
    "    for i in s:\n",
    "        if i not in count:\n",
    "            count[i]=1\n",
    "        else:\n",
    "            count[i]+=1\n",
    "    return list((k for k,v in count.items() if v>1))\n",
    "\n",
    "\n",
    "\n",
    "print(allDuplicates(\"abbd\"))\n",
    "print(allDuplicates(\"dhfkjs\"))"
   ]
  },
  {
   "cell_type": "markdown",
   "metadata": {},
   "source": [
    "Check if the given string is shuffled substring of another string\n",
    "\n",
    "\n",
    "\n",
    "Given strings str1 and str2. The task is to find if str1 is a substring in the shuffled form of str2 or not. Print “YES” if str1 is a substring in shuffled form of str2 else print “NO”. "
   ]
  },
  {
   "cell_type": "code",
   "execution_count": 6,
   "metadata": {},
   "outputs": [],
   "source": [
    "def ValidShuffle(s1,s2):\n",
    "    if(len(s1)>len(s2)):\n",
    "        return False\n",
    "    \n",
    "    \n",
    "    \n",
    "    \n",
    "\n",
    "\n",
    "    \n",
    "    \n"
   ]
  },
  {
   "cell_type": "markdown",
   "metadata": {},
   "source": [
    "CountSay\n",
    "\n",
    "\n",
    "\n",
    "\n",
    "\n",
    "The count-and-say sequence is a sequence of digit strings defined by the recursive formula:\n",
    "\n",
    "countAndSay(1) = \"1\"\n",
    "countAndSay(n) is the way you would \"say\" the digit string from countAndSay(n-1), which is then converted into a different digit string.\n",
    "To determine how you \"say\" a digit string, split it into the minimal number of groups so that each group is a contiguous section all of the same character. Then for each group, say the number of characters, then say the character. To convert the saying into a digit string, replace the counts with a number and concatenate every saying.\n",
    "\n",
    "\n",
    "\n",
    "\n",
    "Given a positive integer n, return the nth term of the count-and-say sequence.\n",
    "\n",
    " \n",
    "\n",
    "Example 1:\n",
    "\n",
    "Input: n = 1\n",
    "Output: \"1\"\n",
    "Explanation: This is the base case.\n",
    "Example 2:\n",
    "\n",
    "Input: n = 4\n",
    "Output: \"1211\"\n",
    "Explanation:\n",
    "countAndSay(1) = \"1\"\n",
    "countAndSay(2) = say \"1\" = one 1 = \"11\"\n",
    "countAndSay(3) = say \"11\" = two 1's = \"21\"\n",
    "countAndSay(4) = say \"21\" = one 2 + one 1 = \"12\" + \"11\" = \"1211\""
   ]
  },
  {
   "cell_type": "code",
   "execution_count": 17,
   "metadata": {},
   "outputs": [
    {
     "name": "stdout",
     "output_type": "stream",
     "text": [
      "<class 'str'> <class 'itertools._grouper'>\n",
      "<class 'str'> <class 'itertools._grouper'>\n",
      "<class 'str'> <class 'itertools._grouper'>\n"
     ]
    }
   ],
   "source": [
    "\n",
    "from itertools import groupby\n",
    "def countAndSay(n):\n",
    "    s = '1'\n",
    "    for _ in range(n - 1):\n",
    "        for k,g in groupby(s):\n",
    "            print(type(k),type(g))\n",
    "        \n",
    "    \n",
    "\n",
    "countAndSay(4)"
   ]
  },
  {
   "cell_type": "markdown",
   "metadata": {},
   "source": [
    "Print all Subsequences of a string."
   ]
  },
  {
   "cell_type": "code",
   "execution_count": 24,
   "metadata": {},
   "outputs": [
    {
     "name": "stdout",
     "output_type": "stream",
     "text": [
      "a\n",
      "ab\n",
      "b\n",
      "abc\n",
      "bc\n",
      "c\n",
      "None\n"
     ]
    }
   ],
   "source": [
    "def PrintAllSubsequence(ip):\n",
    "    ls=[]\n",
    "    for i in range(len(ip)+1):\n",
    "        for j in range(i):\n",
    "            print(ip[j:i])\n",
    "\n",
    "print(PrintAllSubsequence(\"abc\"))"
   ]
  },
  {
   "cell_type": "markdown",
   "metadata": {},
   "source": [
    "Reverse a string"
   ]
  },
  {
   "cell_type": "code",
   "execution_count": 2,
   "metadata": {},
   "outputs": [
    {
     "name": "stdout",
     "output_type": "stream",
     "text": [
      "baca\n"
     ]
    }
   ],
   "source": [
    "def rev(s):\n",
    "    if(len(s)==0):\n",
    "        return \" \"\n",
    "    if(len(s)==1):\n",
    "        return s\n",
    "    res=s[len(s)-1]+rev(s[:len(s)-1])\n",
    "    return res\n",
    "\n",
    "\n",
    "print(rev(\"acab\"))\n",
    "\n"
   ]
  },
  {
   "cell_type": "markdown",
   "metadata": {},
   "source": [
    "Longest Palindrome in a String"
   ]
  },
  {
   "cell_type": "code",
   "execution_count": 31,
   "metadata": {},
   "outputs": [
    {
     "name": "stdout",
     "output_type": "stream",
     "text": [
      "aabbaa\n",
      "a\n"
     ]
    }
   ],
   "source": [
    "def LongestPalindrome(s):\n",
    "    sub=[]\n",
    "    for i in range(len(s)):\n",
    "        for j in range(i,len(s)):\n",
    "           sub.append(s[i:j+1])\n",
    "    palindromes=[v for v in sub if(is_palindrome(v))]\n",
    "    res=max(palindromes,key=len)\n",
    "    return res\n",
    "  \n",
    "print(LongestPalindrome(\"aaaabbaa\"))\n",
    "print(LongestPalindrome(\"abc\"))"
   ]
  },
  {
   "cell_type": "markdown",
   "metadata": {},
   "source": [
    "All Permuattion of a given String"
   ]
  },
  {
   "cell_type": "code",
   "execution_count": 2,
   "metadata": {},
   "outputs": [
    {
     "name": "stdout",
     "output_type": "stream",
     "text": [
      "['ABCD', 'BACD', 'BCAD', 'BCDA', 'ACBD', 'CABD', 'CBAD', 'CBDA', 'ACDB', 'CADB', 'CDAB', 'CDBA', 'ABDC', 'BADC', 'BDAC', 'BDCA', 'ADBC', 'DABC', 'DBAC', 'DBCA', 'ADCB', 'DACB', 'DCAB', 'DCBA']\n"
     ]
    }
   ],
   "source": [
    "def permuatation(s):\n",
    "    if(len(s)==1):\n",
    "        return s\n",
    "    perms=permuatation(s[1:])\n",
    "    char=s[0]\n",
    "    res=list()\n",
    "    for perm in perms:\n",
    "        for i in range(len(perm)+1):\n",
    "            res.append(perm[:i]+char+perm[i:])\n",
    "    return res\n",
    "\n",
    "print(permuatation(\"ABCD\"))"
   ]
  },
  {
   "cell_type": "markdown",
   "metadata": {},
   "source": [
    "TEXT TO KEYPAD NOTE"
   ]
  },
  {
   "cell_type": "code",
   "execution_count": 1,
   "metadata": {},
   "outputs": [
    {
     "name": "stdout",
     "output_type": "stream",
     "text": [
      "0\n",
      "333\n"
     ]
    }
   ],
   "source": [
    "from string import ascii_uppercase\n",
    "\n",
    "def mobileKeyPad(s):\n",
    "    numsL=[(numberStr(i)) for i in range(2,10) ]\n",
    "    numbers=[i for sub in numsL for i in sub]\n",
    "    Letters=[l for l in ascii_uppercase]\n",
    "    main_dict=dict(zip(Letters,numbers))\n",
    "    if(s==\" \"):\n",
    "        return \"0\"\n",
    "    return main_dict[s]\n",
    "    \n",
    "def numberStr(num):\n",
    "    res=[]\n",
    "    if(num==9 or num==7):\n",
    "        count=4\n",
    "    else:\n",
    "        count=3\n",
    "    for k in range(1,count+1):\n",
    "        res.append(str(num)*k)\n",
    "    return res\n",
    "\n",
    "\n",
    "print(mobileKeyPad(\" \"))\n",
    "print(mobileKeyPad(\"F\"))\n",
    "\n"
   ]
  },
  {
   "cell_type": "markdown",
   "metadata": {},
   "source": [
    "Split the binary string into substrings with equal number of 0s and 1s\n",
    "\n",
    "Given a binary string str of length N, the task is to find the maximum count of consecutive substrings str can be divided into such that all the substrings are balanced i.e. they have equal number of 0s and 1s. If it is not possible to split str satisfying the conditions then print -1.\n"
   ]
  },
  {
   "cell_type": "code",
   "execution_count": 8,
   "metadata": {},
   "outputs": [
    {
     "name": "stdout",
     "output_type": "stream",
     "text": [
      "-1\n",
      "4\n",
      "3\n"
     ]
    }
   ],
   "source": [
    "def MaxSubString(s):\n",
    "    n=len(s)\n",
    "    count=0\n",
    "    count0=0\n",
    "    count1=0\n",
    "\n",
    "    for i in s:\n",
    "        if(i=='0'):\n",
    "            count0+=1\n",
    "        else:\n",
    "            count1+=1\n",
    "        if(count0==count1):\n",
    "            count+=1\n",
    "\n",
    "    if(count0!=count1):\n",
    "        return -1\n",
    "\n",
    "\n",
    "    return count\n",
    "\n",
    "\n",
    "print(MaxSubString(\"0000000000\"))\n",
    "print(MaxSubString(\"0100110101\"))\n",
    "print(MaxSubString(\"0111100010\"))"
   ]
  },
  {
   "cell_type": "markdown",
   "metadata": {},
   "source": [
    "Count all Palindromic subsequence in a given string"
   ]
  },
  {
   "cell_type": "code",
   "execution_count": 7,
   "metadata": {},
   "outputs": [
    {
     "name": "stdout",
     "output_type": "stream",
     "text": [
      "4\n",
      "4\n",
      "8\n"
     ]
    }
   ],
   "source": [
    "def is_palindrome(s):\n",
    "    if len(s)==1 or len(s)==0:\n",
    "        return True\n",
    "    if(s[0]==s[len(s)-1]):\n",
    "        return (is_palindrome(s[1:len(s)-1]))\n",
    "    return False\n",
    "\n",
    "def CountPalindrome(s):\n",
    "    count=0\n",
    "    for i in range(len(s)+1):\n",
    "        for j in range(i,len(s)):\n",
    "            if(is_palindrome(s[i:j+1])):\n",
    "                count+=1\n",
    "    return count\n",
    "\n",
    "\n",
    "print(CountPalindrome(\"abcd\"))\n",
    "print(CountPalindrome(\"aab\"))\n",
    "print(CountPalindrome(\"aabba\"))"
   ]
  },
  {
   "cell_type": "markdown",
   "metadata": {},
   "source": []
  },
  {
   "cell_type": "code",
   "execution_count": 10,
   "metadata": {},
   "outputs": [
    {
     "data": {
      "text/plain": [
       "89"
      ]
     },
     "execution_count": 10,
     "metadata": {},
     "output_type": "execute_result"
    }
   ],
   "source": [
    "a=[90,100,78,89,67]\n",
    "a.sort()\n",
    "a[len(a)//2]"
   ]
  },
  {
   "cell_type": "code",
   "execution_count": null,
   "metadata": {},
   "outputs": [],
   "source": []
  }
 ],
 "metadata": {
  "interpreter": {
   "hash": "247ab06e135bb35fa78c5eff31b2a9a0050dcb5fb773c2631d2a29ac689eeccb"
  },
  "kernelspec": {
   "display_name": "Python 3.9.5 64-bit",
   "language": "python",
   "name": "python3"
  },
  "language_info": {
   "codemirror_mode": {
    "name": "ipython",
    "version": 3
   },
   "file_extension": ".py",
   "mimetype": "text/x-python",
   "name": "python",
   "nbconvert_exporter": "python",
   "pygments_lexer": "ipython3",
   "version": "3.9.5"
  },
  "orig_nbformat": 4
 },
 "nbformat": 4,
 "nbformat_minor": 2
}
