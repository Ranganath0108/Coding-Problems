{
 "cells": [
  {
   "cell_type": "markdown",
   "metadata": {},
   "source": [
    "GCD of Two Numbers\n"
   ]
  },
  {
   "cell_type": "code",
   "execution_count": 12,
   "metadata": {},
   "outputs": [
    {
     "data": {
      "text/plain": [
       "64"
      ]
     },
     "execution_count": 12,
     "metadata": {},
     "output_type": "execute_result"
    }
   ],
   "source": [
    "def GCD(a,b):\n",
    "    if(a==0):\n",
    "        return b\n",
    "    return GCD(b%a,a)\n",
    "GCD(64,128)"
   ]
  },
  {
   "cell_type": "markdown",
   "metadata": {},
   "source": [
    "LCM of A Given Number"
   ]
  },
  {
   "cell_type": "code",
   "execution_count": 8,
   "metadata": {},
   "outputs": [
    {
     "data": {
      "text/plain": [
       "8.0"
      ]
     },
     "execution_count": 8,
     "metadata": {},
     "output_type": "execute_result"
    }
   ],
   "source": [
    "def LCM(a,b):\n",
    "    return(a*b)//(GCD(a,b))\n",
    "LCM(2,8)"
   ]
  },
  {
   "cell_type": "markdown",
   "metadata": {},
   "source": [
    "check wheather the index corresponds number in fibonicci series is prime or not\n"
   ]
  },
  {
   "cell_type": "code",
   "execution_count": 17,
   "metadata": {},
   "outputs": [
    {
     "name": "stdout",
     "output_type": "stream",
     "text": [
      "NO\n"
     ]
    }
   ],
   "source": [
    "from math import sqrt\n",
    "\n",
    "def is_prime(num):\n",
    "    if(num<=1):\n",
    "        return False\n",
    "    for i in range(2,int(sqrt(num)+1)):\n",
    "        if (num%i==0):\n",
    "            return False\n",
    "    return True\n",
    "        \n",
    "def fib(n):\n",
    "    if(n==0 or n==1):\n",
    "        return n\n",
    "    return fib(n-1)+fib(n-2)\n",
    "    \n",
    "\n",
    "index=6\n",
    "if(is_prime(fib(index))):\n",
    "    print(\"Yes\")\n",
    "else:\n",
    "    print(\"NO\")\n",
    "\n"
   ]
  },
  {
   "cell_type": "markdown",
   "metadata": {},
   "source": [
    "Check Wheather the given number is palindrome Or not"
   ]
  },
  {
   "cell_type": "code",
   "execution_count": 9,
   "metadata": {},
   "outputs": [
    {
     "name": "stdout",
     "output_type": "stream",
     "text": [
      "False\n",
      "True\n",
      "True\n",
      "True\n",
      "True\n"
     ]
    }
   ],
   "source": [
    "def is_palindrome(n):\n",
    "    temp=n\n",
    "    res=0\n",
    "    while n>0:\n",
    "        rem=n%10\n",
    "        res=res*10+rem\n",
    "        n=n//10\n",
    "    return temp==res\n",
    "\n",
    "print(is_palindrome(1222))\n",
    "print(is_palindrome(1221))\n",
    "print(is_palindrome(1))\n",
    "print(is_palindrome(1234321))\n",
    "print(is_palindrome(121))\n",
    "\n"
   ]
  },
  {
   "cell_type": "markdown",
   "metadata": {},
   "source": []
  },
  {
   "cell_type": "code",
   "execution_count": null,
   "metadata": {},
   "outputs": [],
   "source": []
  }
 ],
 "metadata": {
  "interpreter": {
   "hash": "247ab06e135bb35fa78c5eff31b2a9a0050dcb5fb773c2631d2a29ac689eeccb"
  },
  "kernelspec": {
   "display_name": "Python 3.9.5 64-bit",
   "language": "python",
   "name": "python3"
  },
  "language_info": {
   "codemirror_mode": {
    "name": "ipython",
    "version": 3
   },
   "file_extension": ".py",
   "mimetype": "text/x-python",
   "name": "python",
   "nbconvert_exporter": "python",
   "pygments_lexer": "ipython3",
   "version": "3.9.5"
  },
  "orig_nbformat": 4
 },
 "nbformat": 4,
 "nbformat_minor": 2
}
