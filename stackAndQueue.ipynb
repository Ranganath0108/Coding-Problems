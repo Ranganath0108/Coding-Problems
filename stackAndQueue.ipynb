{
 "cells": [
  {
   "cell_type": "markdown",
   "metadata": {},
   "source": [
    "Queue And Stack"
   ]
  },
  {
   "cell_type": "markdown",
   "metadata": {},
   "source": [
    "Implement A Stack Using a queue"
   ]
  },
  {
   "cell_type": "code",
   "execution_count": 3,
   "metadata": {},
   "outputs": [
    {
     "name": "stdout",
     "output_type": "stream",
     "text": [
      "False\n",
      "5\n",
      "4\n",
      "3\n"
     ]
    },
    {
     "data": {
      "text/plain": [
       "True"
      ]
     },
     "execution_count": 3,
     "metadata": {},
     "output_type": "execute_result"
    }
   ],
   "source": [
    "\n",
    "import collections as coll\n",
    "from queue import Queue\n",
    "\n",
    "\n",
    "class MyStack:\n",
    "    def __init__(self):\n",
    "        self.q = Queue()\n",
    "\n",
    "    def push(self, x):\n",
    "        self.q.put(x)\n",
    "\n",
    "    def pop(self):\n",
    "        for _ in range(self.q.qsize()-1):\n",
    "            self.push(self.q.get())\n",
    "        return self.q.get()\n",
    "\n",
    "\n",
    "    def empty(self):\n",
    "        return self.q.empty()\n",
    "\n",
    "\n",
    "a=MyStack()\n",
    "a.push(3)\n",
    "a.push(4)\n",
    "a.push(5)\n",
    "print(a.empty())\n",
    "print(a.pop())\n",
    "print(a.pop())\n",
    "print(a.pop())\n",
    "a.empty()\n"
   ]
  },
  {
   "cell_type": "code",
   "execution_count": 4,
   "metadata": {},
   "outputs": [
    {
     "name": "stdout",
     "output_type": "stream",
     "text": [
      "deque([1])\n"
     ]
    }
   ],
   "source": [
    "from collections import deque\n",
    "\n",
    "class MyStack2:\n",
    "    def __init__(self):\n",
    "        self.q=deque()\n",
    "        \n",
    "    def push(self,x):\n",
    "        self.q.append(x)\n",
    "        \n",
    "    def pop(self):\n",
    "        for _ in range(len(self.q)-1):\n",
    "            self.push(self.q.popleft())\n",
    "        return self.q.popleft()\n",
    "        \n",
    "    def display(self):\n",
    "        return self.q\n",
    "a=MyStack2()\n",
    "a.push(1)\n",
    "a.push(2)\n",
    "a.pop()\n",
    "print(a.display())"
   ]
  },
  {
   "cell_type": "markdown",
   "metadata": {},
   "source": [
    "Queue from Array"
   ]
  },
  {
   "cell_type": "code",
   "execution_count": 14,
   "metadata": {},
   "outputs": [
    {
     "name": "stdout",
     "output_type": "stream",
     "text": [
      "[1, 2]\n",
      "[1, 2, 4]\n",
      "[2, 4]\n",
      "False\n"
     ]
    }
   ],
   "source": [
    "class myQueue:\n",
    "    def __init__(self):\n",
    "        self.a=[]\n",
    "    def push(self,x):\n",
    "        self.a.append(x)\n",
    "    def pop(self):\n",
    "        return self.a.pop(0)\n",
    "    def empty(self):\n",
    "        return len(self.a)==0\n",
    "    def dispaly(self):\n",
    "        return self.a\n",
    "\n",
    "a=myQueue()\n",
    "a.push(1)\n",
    "a.push(2)\n",
    "print(a.dispaly())\n",
    "a.push(4)\n",
    "print(a.dispaly())\n",
    "a.pop()\n",
    "print(a.dispaly())\n",
    "print(a.empty())\n",
    "\n",
    "    \n",
    "        "
   ]
  },
  {
   "cell_type": "markdown",
   "metadata": {},
   "source": [
    "Stack From Array\n"
   ]
  },
  {
   "cell_type": "code",
   "execution_count": 20,
   "metadata": {},
   "outputs": [
    {
     "name": "stdout",
     "output_type": "stream",
     "text": [
      "[1, 4, 67]\n",
      "False\n",
      "67\n",
      "True\n"
     ]
    }
   ],
   "source": [
    "class MystackFromArray:\n",
    "    def __init__(self):\n",
    "        self.a = []\n",
    "\n",
    "    def push(self, x):\n",
    "        self.a.append(x)\n",
    "\n",
    "    def pop(self):\n",
    "        return self.a.pop()\n",
    "\n",
    "    def top(self):\n",
    "        return self.a[-1]\n",
    "\n",
    "    def empty(self):\n",
    "        return len(self.a) == 0\n",
    "    def display(self):\n",
    "        return self.a\n",
    "\n",
    "a=MystackFromArray()\n",
    "a.push(1)\n",
    "a.push(2)\n",
    "a.pop()\n",
    "a.push(4)\n",
    "a.push(67)\n",
    "print(a.display())\n",
    "print(a.empty())\n",
    "print(a.top())\n",
    "a.pop()\n",
    "a.pop()\n",
    "a.pop()\n",
    "print(a.empty())"
   ]
  },
  {
   "cell_type": "code",
   "execution_count": null,
   "metadata": {},
   "outputs": [],
   "source": []
  }
 ],
 "metadata": {
  "interpreter": {
   "hash": "247ab06e135bb35fa78c5eff31b2a9a0050dcb5fb773c2631d2a29ac689eeccb"
  },
  "kernelspec": {
   "display_name": "Python 3.9.5 64-bit",
   "language": "python",
   "name": "python3"
  },
  "language_info": {
   "codemirror_mode": {
    "name": "ipython",
    "version": 3
   },
   "file_extension": ".py",
   "mimetype": "text/x-python",
   "name": "python",
   "nbconvert_exporter": "python",
   "pygments_lexer": "ipython3",
   "version": "3.9.5"
  },
  "orig_nbformat": 4
 },
 "nbformat": 4,
 "nbformat_minor": 2
}
