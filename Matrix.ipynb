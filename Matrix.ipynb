{
 "cells": [
  {
   "cell_type": "markdown",
   "metadata": {},
   "source": [
    "1. Spiral traversal"
   ]
  },
  {
   "cell_type": "code",
   "execution_count": 1,
   "metadata": {},
   "outputs": [
    {
     "name": "stdout",
     "output_type": "stream",
     "text": [
      "0 3 0 3\n"
     ]
    },
    {
     "data": {
      "text/plain": [
       "[1, 2, 3, 4, 8, 12, 16, 15, 14, 13, 9, 5, 6, 7, 11, 10]"
      ]
     },
     "execution_count": 1,
     "metadata": {},
     "output_type": "execute_result"
    }
   ],
   "source": [
    "def spiralTraversal(mat):\n",
    "    ans=[]\n",
    "    di=0\n",
    "    n=len(mat)\n",
    "    m=len(mat[0])\n",
    "    # print(n,m)\n",
    "    if(len(mat)==0):\n",
    "        return ans\n",
    "    top,down,left,right=0,n-1,0,m-1\n",
    "    print(top,down,left,right)\n",
    "    while(top<=down and left<=right):\n",
    "        if(di==0):\n",
    "            for i in range(left,right+1):\n",
    "                ans.append(mat[top][i])\n",
    "            top+=1\n",
    "        elif(di==1):\n",
    "            for i in range(top,down+1):\n",
    "                ans.append(mat[i][right])\n",
    "            right-=1         \n",
    "        elif(di==2):\n",
    "            for i in range(right,left-1,-1):\n",
    "                ans.append(mat[down][i])\n",
    "            down-=1\n",
    "        elif(di==3):\n",
    "            for i in range(down,top-1,-1):\n",
    "                ans.append(mat[i][left])\n",
    "            left+=1\n",
    "\n",
    "        di=(di+1)%4\n",
    "    return ans\n",
    "               \n",
    "spiralTraversal([[1, 2, 3, 4],\n",
    "           [5, 6, 7, 8],\n",
    "           [9, 10, 11, 12],\n",
    "           [13, 14, 15,16]])\n",
    "\n",
    "\n",
    "    "
   ]
  },
  {
   "cell_type": "markdown",
   "metadata": {},
   "source": [
    "2.  Search in a matrix\n",
    "\n",
    "\n",
    "<img src=\"https://assets.leetcode.com/uploads/2020/10/05/mat.jpg\"/>\n",
    "\n",
    "\n",
    "\n",
    "Write an efficient algorithm that searches for a value target in an m x n integer matrix matrix. This matrix has the following properties:\n",
    "\n",
    "Integers in each row are sorted from left to right.\n",
    "The first integer of each row is greater than the last integer of the previous row.\n",
    " "
   ]
  },
  {
   "cell_type": "code",
   "execution_count": 36,
   "metadata": {},
   "outputs": [
    {
     "data": {
      "text/plain": [
       "(1, 2)"
      ]
     },
     "execution_count": 36,
     "metadata": {},
     "output_type": "execute_result"
    }
   ],
   "source": [
    "def searchMatrix(matrix,target):\n",
    "    n=len(matrix)\n",
    "    m=len(matrix[0])\n",
    "    lo=0\n",
    "    hi=n*m-1\n",
    "    while(lo<=hi):\n",
    "        mid=(lo+(hi-lo)//2)\n",
    "        i=mid//m\n",
    "        j=mid%m\n",
    "        if(matrix[i][j]==target):\n",
    "            return i+1,j+1\n",
    "        if(matrix[i][j]<target):\n",
    "            lo=mid+1\n",
    "        else:\n",
    "            hi=mid-1\n",
    "    return \"Not Found\"\n",
    "\n",
    "\n",
    "searchMatrix([[1,3,5,7],\n",
    "            [10,11,16,20],\n",
    "            [23,30,34,60]],)\n",
    "        \n"
   ]
  },
  {
   "cell_type": "markdown",
   "metadata": {},
   "source": []
  },
  {
   "cell_type": "code",
   "execution_count": 4,
   "metadata": {},
   "outputs": [
    {
     "ename": "SyntaxError",
     "evalue": "cannot delete literal (Temp/ipykernel_12064/2941271107.py, line 2)",
     "output_type": "error",
     "traceback": [
      "\u001b[1;36m  File \u001b[1;32m\"C:\\Users\\user\\AppData\\Local\\Temp/ipykernel_12064/2941271107.py\"\u001b[1;36m, line \u001b[1;32m2\u001b[0m\n\u001b[1;33m    del(\"omkar\")\u001b[0m\n\u001b[1;37m        ^\u001b[0m\n\u001b[1;31mSyntaxError\u001b[0m\u001b[1;31m:\u001b[0m cannot delete literal\n"
     ]
    }
   ],
   "source": [
    "a=\"omkar@gmail.com\"\n"
   ]
  },
  {
   "cell_type": "code",
   "execution_count": null,
   "metadata": {},
   "outputs": [],
   "source": []
  }
 ],
 "metadata": {
  "interpreter": {
   "hash": "247ab06e135bb35fa78c5eff31b2a9a0050dcb5fb773c2631d2a29ac689eeccb"
  },
  "kernelspec": {
   "display_name": "Python 3.9.5 64-bit",
   "language": "python",
   "name": "python3"
  },
  "language_info": {
   "codemirror_mode": {
    "name": "ipython",
    "version": 3
   },
   "file_extension": ".py",
   "mimetype": "text/x-python",
   "name": "python",
   "nbconvert_exporter": "python",
   "pygments_lexer": "ipython3",
   "version": "3.9.5"
  },
  "orig_nbformat": 4
 },
 "nbformat": 4,
 "nbformat_minor": 2
}
