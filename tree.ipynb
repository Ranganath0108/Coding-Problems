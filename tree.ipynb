{
 "cells": [
  {
   "cell_type": "code",
   "execution_count": 17,
   "metadata": {},
   "outputs": [],
   "source": [
    "class TreeNode:\n",
    "    \n",
    "    def __init__(self,key):\n",
    "        self.key=key\n",
    "        self.left=None\n",
    "        self.right=None\n",
    "\n",
    "\n",
    "    def height(self):\n",
    "        if self is None:\n",
    "            return 0\n",
    "        return 1+max(TreeNode.height(self.left),TreeNode.height(self.right))\n",
    "    \n",
    "\n",
    "    def size(self):\n",
    "        if self is None:\n",
    "            return 0\n",
    "        return 1+TreeNode.size(self.left)+TreeNode.size(self.right)\n",
    "\n",
    "    def sum_of_all(self):\n",
    "        if self is None:\n",
    "            return 0\n",
    "        return self.key+TreeNode.sum_of_all(self.left)+TreeNode.sum_of_all(self.right)\n",
    "\n",
    "    def in_order(self):\n",
    "        if self is None:\n",
    "            return []\n",
    "        return (TreeNode.in_order(self.left)+[self.key]+TreeNode.in_order(self.right))\n",
    "\n",
    "    def pre_order(self):\n",
    "        if self is None:\n",
    "            return []\n",
    "        return [self.key]+TreeNode.pre_order(self.left)+TreeNode.pre_order(self.right)\n",
    "    def post_order(self):\n",
    "        if self is None:\n",
    "            return[]\n",
    "        return TreeNode.post_order(self.left)+TreeNode.pre_order(self.right)+[self.key]\n",
    "\n",
    "    def LevelOrder(self):\n",
    "        h=self.height()\n",
    "        for i in range(1,h+1):\n",
    "            TreeNode.CurrentLevel(self,i)\n",
    "            \n",
    "    def CurrentLevel(self,level):\n",
    "        if self is None:\n",
    "            return \n",
    "        if(level==1):\n",
    "            print(self.key,end=\" \")\n",
    "        elif level > 1 :\n",
    "            TreeNode.CurrentLevel(self.left,level-1)\n",
    "            TreeNode.CurrentLevel(self.right,level-1)\n",
    "\n",
    "    def MaxWidth(self):\n",
    "        maxWidth=0\n",
    "        h=self.height()\n",
    "        for i in range(1,h+1):\n",
    "            width=TreeNode.getWidth(self,i)\n",
    "            if(width>maxWidth):\n",
    "                maxWidth=width\n",
    "        return width\n",
    "    \n",
    "    def getWidth(self,level):\n",
    "        if self is None:\n",
    "            return 0\n",
    "        if level==1:\n",
    "            return 1\n",
    "        elif (level>1):\n",
    "            return(TreeNode.getWidth(self.left,level-1)+TreeNode.getWidth(self.right,level-1))\n",
    "\n",
    "\n",
    "    \n",
    "\n",
    "\n",
    "    @staticmethod\n",
    "    def parase_tuple(data):\n",
    "        if data is None:\n",
    "            return None\n",
    "        elif (isinstance(data,tuple) and len(data)==3):\n",
    "            node=TreeNode(data[1])\n",
    "            node.left=TreeNode.parase_tuple(data[0])\n",
    "            node.right= TreeNode.parase_tuple(data[2])\n",
    "        else:\n",
    "            node=TreeNode(data)\n",
    "        return node"
   ]
  },
  {
   "cell_type": "code",
   "execution_count": 18,
   "metadata": {},
   "outputs": [
    {
     "name": "stdout",
     "output_type": "stream",
     "text": [
      "3\n",
      "5\n",
      "[4, 2, 5, 1, 3]\n",
      "[1, 2, 4, 5, 3]\n",
      "[4, 5, 2, 3, 1]\n",
      "1 2 3 4 5 None\n",
      "15\n",
      "2\n"
     ]
    }
   ],
   "source": [
    "tree=TreeNode.parase_tuple(((4,2,5),1,3))\n",
    "print(tree.height())\n",
    "print(tree.size())\n",
    "print(tree.in_order())\n",
    "print(tree.pre_order())\n",
    "print(tree.post_order())\n",
    "print(tree.LevelOrder())\n",
    "print(tree.sum_of_all())\n",
    "print(tree.MaxWidth())\n"
   ]
  },
  {
   "cell_type": "markdown",
   "metadata": {},
   "source": []
  },
  {
   "cell_type": "code",
   "execution_count": 23,
   "metadata": {},
   "outputs": [
    {
     "name": "stdout",
     "output_type": "stream",
     "text": [
      "3\n"
     ]
    }
   ],
   "source": []
  },
  {
   "cell_type": "code",
   "execution_count": null,
   "metadata": {},
   "outputs": [],
   "source": [
    "()"
   ]
  }
 ],
 "metadata": {
  "interpreter": {
   "hash": "247ab06e135bb35fa78c5eff31b2a9a0050dcb5fb773c2631d2a29ac689eeccb"
  },
  "kernelspec": {
   "display_name": "Python 3.9.5 64-bit",
   "language": "python",
   "name": "python3"
  },
  "language_info": {
   "codemirror_mode": {
    "name": "ipython",
    "version": 3
   },
   "file_extension": ".py",
   "mimetype": "text/x-python",
   "name": "python",
   "nbconvert_exporter": "python",
   "pygments_lexer": "ipython3",
   "version": "3.9.5"
  },
  "orig_nbformat": 4
 },
 "nbformat": 4,
 "nbformat_minor": 2
}
